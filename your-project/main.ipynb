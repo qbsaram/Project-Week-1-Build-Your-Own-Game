{
 "cells": [
  {
   "cell_type": "code",
   "execution_count": 12,
   "id": "6238cff7",
   "metadata": {},
   "outputs": [],
   "source": [
    "import random\n",
    "import string\n",
    "\n",
    "#Creating the strings for possible characters\n",
    "lower_case = str(string.ascii_lowercase)\n",
    "upper_case = str(string.ascii_uppercase)\n",
    "symbols = str(string.punctuation)\n",
    "digits = str(string.digits)\n",
    "\n",
    "#Creating the list with the possible lengths for the password\n",
    "nbrs_length = list(range(4, 17))\n",
    "\n",
    "#The list which will contain all types of characters for the password\n",
    "requirements = []"
   ]
  },
  {
   "cell_type": "code",
   "execution_count": 13,
   "id": "85ff6962",
   "metadata": {},
   "outputs": [],
   "source": [
    "#Input for the length of the password and also check if it is within the range\n",
    "req_length  = int(input(\"Please input the length of your password. The length can only be between 4 and 16 characters:\"))\n",
    "\n",
    "while req_length not in nbrs_length:\n",
    "    req_length = int(input(\"Please enter a number between 4 and 16:\"))\n",
    "    \n",
    "#IMPORTANT: Does not check if other character than numbers."
   ]
  },
  {
   "cell_type": "code",
   "execution_count": 14,
   "id": "609d9b99",
   "metadata": {
    "scrolled": true
   },
   "outputs": [],
   "source": [
    "\n",
    "#Function for adding the character type input and also check if it is the right input.\n",
    "def req_check_add (req_char, inp_char):\n",
    "    \n",
    "    '''\n",
    "    Checks the y/n input and adds the characters to the requirements list.\n",
    "    Input arguments: req_char, inp_char\n",
    "    Arguemnt types: String, String\n",
    "    Output: none        \n",
    "    '''\n",
    "    while req_char != \"y\" and req_char != \"n\":\n",
    "        req_char = str(input(\"Please enter (y/n):\"))\n",
    "    \n",
    "    if req_char == \"y\":\n",
    "        requirements.append(inp_char)\n",
    "        \n"
   ]
  },
  {
   "cell_type": "code",
   "execution_count": 15,
   "id": "fc3902cc",
   "metadata": {},
   "outputs": [],
   "source": [
    "\n",
    "#Use of req_check_add function for every possible type. Input here is only y or n. \n",
    "while requirements == []:\n",
    "    req_upper = str(input(\"Do you want to include uppercase letters? (y/n):\"))\n",
    "    req_check_add(req_upper, upper_case)\n",
    "\n",
    "    req_lower = str(input(\"Do you want to include lowercase letters? (y/n):\")) \n",
    "    req_check_add(req_lower, lower_case)\n",
    "\n",
    "    req_symbols = str(input(\"Do you want to include symbols? (y/n):\"))\n",
    "    req_check_add(req_symbols, symbols)\n",
    "\n",
    "    req_number = str(input(\"Do you want to include numbers? (y/n):\"))\n",
    "    req_check_add(req_number, digits)\n",
    "\n",
    "requirements = \"\".join(requirements) #Creating a string with all the possible characters."
   ]
  },
  {
   "cell_type": "code",
   "execution_count": 30,
   "id": "c5fd2cef",
   "metadata": {},
   "outputs": [
    {
     "output_type": "stream",
     "name": "stdout",
     "text": [
      "MP-+xFM<!i\\g7k\n"
     ]
    }
   ],
   "source": [
    "#Password generator. A function for this code snippet is also possible but maybe not necessary.\n",
    "password = []\n",
    "for i in range(req_length):\n",
    "    i = random.choice(requirements)\n",
    "    password.append(i)\n",
    "password = \"\".join(password)\n",
    "    \n",
    "print(password)\n",
    "\n"
   ]
  },
  {
   "cell_type": "code",
   "execution_count": null,
   "id": "2f816d78",
   "metadata": {},
   "outputs": [],
   "source": []
  }
 ],
 "metadata": {
  "kernelspec": {
   "name": "python3810jvsc74a57bd005feff2fdf565b4358959a98380e50131c0e61804a1fd7f1ac97c023b4741eb8",
   "display_name": "Python 3.8.10 64-bit ('Ironhack': conda)"
  },
  "language_info": {
   "codemirror_mode": {
    "name": "ipython",
    "version": 3
   },
   "file_extension": ".py",
   "mimetype": "text/x-python",
   "name": "python",
   "nbconvert_exporter": "python",
   "pygments_lexer": "ipython3",
   "version": "3.8.10"
  }
 },
 "nbformat": 4,
 "nbformat_minor": 5
}